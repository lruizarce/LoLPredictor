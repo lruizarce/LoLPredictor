{
 "cells": [
  {
   "cell_type": "markdown",
   "metadata": {},
   "source": [
    "\n",
    "Data Understanding\n",
    "\n",
    "The data we will use to perform this analysis was obtained from Kaggle dataset dataset which was obtained via the Riot API. It includes data from 9,879 high ranking (Diamond I to Master) competitive matches with 19 features per team and one target variable which indicates whether the match resulted in a win for the blue team.\n",
    "\n",
    "Glossary of Features:\n",
    "\n",
    "    Ward: An item that players can place on the map to reveal the nearby area. Very useful for map/objectives control.\n",
    "\n",
    "    Assist: Awards partial gold and experience points when damage is done to contribute to an enemy's death.\n",
    "\n",
    "    Elite Monsters: Monsters with high hp/damage that give a massive bonus (gold/XP/stats) when killed by a team.\n",
    "\n",
    "    Dragon: AKA Drake. This powerful neutral monster grants various permanent effects and buffs when when killed by a team.\n",
    "\n",
    "    Herald: A monster that spawns on the eigth minute. Grants a buff that allows the user to spawn the Herald for your team to help push towers and lanes.\n",
    "\n",
    "    Tower: A structure that blocks the enemy’s path to the base. They take high damage and fire at opponents within a certain radius.\n",
    "\n",
    "    Gold: Currency awarded for killing monsters or enemy players as well as for completing objectives.\n",
    "\n",
    "    Level: Champion level. Start at 1. Max is 18.\n",
    "\n",
    "    Minions: Non-player characters (NPCs) that spawn from each team’s base.\n",
    "    \n",
    "    Jungle Minions: NPC that belong to NO TEAM. They give gold and temporary buffs when killed by players.\n",
    "\n"
   ]
  },
  {
   "cell_type": "code",
   "execution_count": 150,
   "metadata": {},
   "outputs": [],
   "source": [
    "from sklearn import metrics\n",
    "import warnings\n",
    "from xgboost import XGBRFClassifier, XGBClassifier\n",
    "from sklearn.ensemble import RandomForestClassifier\n",
    "from sklearn.model_selection import RandomizedSearchCV\n",
    "from sklearn.linear_model import LogisticRegression, LogisticRegressionCV\n",
    "from sklearn.preprocessing import StandardScaler\n",
    "from sklearn.model_selection import train_test_split, GridSearchCV\n",
    "from matplotlib.gridspec import GridSpec\n",
    "from sklearn import preprocessing\n",
    "import matplotlib.pyplot as plt\n",
    "import seaborn as sns\n",
    "import pandas as pd\n",
    "import numpy as np\n",
    "np.random.seed(42)\n",
    "\n",
    "\n",
    "warnings.filterwarnings('ignore')\n",
    "\n",
    "%matplotlib inline\n",
    "\n",
    "\n"
   ]
  },
  {
   "cell_type": "code",
   "execution_count": 151,
   "metadata": {},
   "outputs": [],
   "source": [
    "df = pd.read_csv('..\\\\data\\\\interim\\\\lol_clean_data.csv')\n",
    "df.describe()\n",
    "non_std_df = df\n",
    "\n"
   ]
  },
  {
   "cell_type": "markdown",
   "metadata": {},
   "source": [
    "df.info()"
   ]
  },
  {
   "cell_type": "code",
   "execution_count": 152,
   "metadata": {},
   "outputs": [
    {
     "data": {
      "text/plain": [
       "0       0\n",
       "1       0\n",
       "2       0\n",
       "3       0\n",
       "4       0\n",
       "       ..\n",
       "9874    1\n",
       "9875    1\n",
       "9876    0\n",
       "9877    0\n",
       "9878    1\n",
       "Name: blueWins, Length: 9879, dtype: int64"
      ]
     },
     "execution_count": 152,
     "metadata": {},
     "output_type": "execute_result"
    }
   ],
   "source": [
    "# Creating new dfs \n",
    "target_df = df.loc[:,'blueWins']\n",
    "no_target_df = df.loc[:, df.columns != 'blueWins']\n",
    "target_df"
   ]
  },
  {
   "cell_type": "markdown",
   "metadata": {},
   "source": [
    "# Standardizing dataset\n"
   ]
  },
  {
   "cell_type": "code",
   "execution_count": 153,
   "metadata": {},
   "outputs": [
    {
     "data": {
      "text/html": [
       "<div>\n",
       "<style scoped>\n",
       "    .dataframe tbody tr th:only-of-type {\n",
       "        vertical-align: middle;\n",
       "    }\n",
       "\n",
       "    .dataframe tbody tr th {\n",
       "        vertical-align: top;\n",
       "    }\n",
       "\n",
       "    .dataframe thead th {\n",
       "        text-align: right;\n",
       "    }\n",
       "</style>\n",
       "<table border=\"1\" class=\"dataframe\">\n",
       "  <thead>\n",
       "    <tr style=\"text-align: right;\">\n",
       "      <th></th>\n",
       "      <th>blueWins</th>\n",
       "      <th>blueWardsPlaced</th>\n",
       "      <th>blueWardsDestroyed</th>\n",
       "      <th>blueFirstBlood</th>\n",
       "      <th>blueKills</th>\n",
       "      <th>blueDeaths</th>\n",
       "      <th>blueAssists</th>\n",
       "      <th>blueDragons</th>\n",
       "      <th>blueHeralds</th>\n",
       "      <th>blueTowersDestroyed</th>\n",
       "      <th>...</th>\n",
       "      <th>redTowersDestroyed</th>\n",
       "      <th>redTotalGold</th>\n",
       "      <th>redAvgLevel</th>\n",
       "      <th>redTotalExperience</th>\n",
       "      <th>redTotalMinionsKilled</th>\n",
       "      <th>redTotalJungleMinionsKilled</th>\n",
       "      <th>redGoldDiff</th>\n",
       "      <th>redExperienceDiff</th>\n",
       "      <th>redCSPerMin</th>\n",
       "      <th>redGoldPerMin</th>\n",
       "    </tr>\n",
       "  </thead>\n",
       "  <tbody>\n",
       "    <tr>\n",
       "      <th>0</th>\n",
       "      <td>0</td>\n",
       "      <td>0.316996</td>\n",
       "      <td>-0.379275</td>\n",
       "      <td>0.990429</td>\n",
       "      <td>0.935301</td>\n",
       "      <td>-0.046926</td>\n",
       "      <td>1.071495</td>\n",
       "      <td>-0.753226</td>\n",
       "      <td>-0.481132</td>\n",
       "      <td>-0.210439</td>\n",
       "      <td>...</td>\n",
       "      <td>-0.198353</td>\n",
       "      <td>0.052293</td>\n",
       "      <td>-0.410475</td>\n",
       "      <td>-0.763215</td>\n",
       "      <td>-0.928741</td>\n",
       "      <td>0.367685</td>\n",
       "      <td>-0.256228</td>\n",
       "      <td>-0.013342</td>\n",
       "      <td>-0.928741</td>\n",
       "      <td>0.052293</td>\n",
       "    </tr>\n",
       "    <tr>\n",
       "      <th>1</th>\n",
       "      <td>0</td>\n",
       "      <td>-0.570992</td>\n",
       "      <td>-0.839069</td>\n",
       "      <td>-1.009663</td>\n",
       "      <td>-0.393216</td>\n",
       "      <td>-0.387796</td>\n",
       "      <td>-0.404768</td>\n",
       "      <td>-0.753226</td>\n",
       "      <td>-0.481132</td>\n",
       "      <td>-0.210439</td>\n",
       "      <td>...</td>\n",
       "      <td>4.412301</td>\n",
       "      <td>0.758619</td>\n",
       "      <td>-0.410475</td>\n",
       "      <td>-0.436980</td>\n",
       "      <td>1.033784</td>\n",
       "      <td>0.068504</td>\n",
       "      <td>1.191254</td>\n",
       "      <td>0.593342</td>\n",
       "      <td>1.033784</td>\n",
       "      <td>0.758619</td>\n",
       "    </tr>\n",
       "    <tr>\n",
       "      <th>2</th>\n",
       "      <td>0</td>\n",
       "      <td>-0.404494</td>\n",
       "      <td>-1.298863</td>\n",
       "      <td>-1.009663</td>\n",
       "      <td>0.271042</td>\n",
       "      <td>1.657424</td>\n",
       "      <td>-0.650812</td>\n",
       "      <td>1.327623</td>\n",
       "      <td>-0.481132</td>\n",
       "      <td>-0.210439</td>\n",
       "      <td>...</td>\n",
       "      <td>-0.198353</td>\n",
       "      <td>0.533909</td>\n",
       "      <td>-0.410475</td>\n",
       "      <td>-0.590502</td>\n",
       "      <td>-0.654900</td>\n",
       "      <td>-2.324944</td>\n",
       "      <td>0.483614</td>\n",
       "      <td>0.520436</td>\n",
       "      <td>-0.654900</td>\n",
       "      <td>0.533909</td>\n",
       "    </tr>\n",
       "    <tr>\n",
       "      <th>3</th>\n",
       "      <td>0</td>\n",
       "      <td>1.149484</td>\n",
       "      <td>-0.839069</td>\n",
       "      <td>-1.009663</td>\n",
       "      <td>-0.725346</td>\n",
       "      <td>-0.387796</td>\n",
       "      <td>-0.404768</td>\n",
       "      <td>-0.753226</td>\n",
       "      <td>2.078430</td>\n",
       "      <td>-0.210439</td>\n",
       "      <td>...</td>\n",
       "      <td>-0.198353</td>\n",
       "      <td>-0.007406</td>\n",
       "      <td>0.244627</td>\n",
       "      <td>-0.000609</td>\n",
       "      <td>0.805583</td>\n",
       "      <td>-0.430131</td>\n",
       "      <td>0.544350</td>\n",
       "      <td>-0.013863</td>\n",
       "      <td>0.805583</td>\n",
       "      <td>-0.007406</td>\n",
       "    </tr>\n",
       "    <tr>\n",
       "      <th>4</th>\n",
       "      <td>0</td>\n",
       "      <td>2.925460</td>\n",
       "      <td>0.540312</td>\n",
       "      <td>-1.009663</td>\n",
       "      <td>-0.061087</td>\n",
       "      <td>-0.046926</td>\n",
       "      <td>-0.158724</td>\n",
       "      <td>-0.753226</td>\n",
       "      <td>-0.481132</td>\n",
       "      <td>-0.210439</td>\n",
       "      <td>...</td>\n",
       "      <td>-0.198353</td>\n",
       "      <td>0.613731</td>\n",
       "      <td>0.244627</td>\n",
       "      <td>0.293085</td>\n",
       "      <td>0.349182</td>\n",
       "      <td>1.564408</td>\n",
       "      <td>0.415133</td>\n",
       "      <td>-0.137283</td>\n",
       "      <td>0.349182</td>\n",
       "      <td>0.613731</td>\n",
       "    </tr>\n",
       "    <tr>\n",
       "      <th>...</th>\n",
       "      <td>...</td>\n",
       "      <td>...</td>\n",
       "      <td>...</td>\n",
       "      <td>...</td>\n",
       "      <td>...</td>\n",
       "      <td>...</td>\n",
       "      <td>...</td>\n",
       "      <td>...</td>\n",
       "      <td>...</td>\n",
       "      <td>...</td>\n",
       "      <td>...</td>\n",
       "      <td>...</td>\n",
       "      <td>...</td>\n",
       "      <td>...</td>\n",
       "      <td>...</td>\n",
       "      <td>...</td>\n",
       "      <td>...</td>\n",
       "      <td>...</td>\n",
       "      <td>...</td>\n",
       "      <td>...</td>\n",
       "      <td>...</td>\n",
       "    </tr>\n",
       "    <tr>\n",
       "      <th>9874</th>\n",
       "      <td>1</td>\n",
       "      <td>-0.293496</td>\n",
       "      <td>-0.379275</td>\n",
       "      <td>0.990429</td>\n",
       "      <td>0.271042</td>\n",
       "      <td>-0.728666</td>\n",
       "      <td>-0.404768</td>\n",
       "      <td>1.327623</td>\n",
       "      <td>-0.481132</td>\n",
       "      <td>-0.210439</td>\n",
       "      <td>...</td>\n",
       "      <td>-0.198353</td>\n",
       "      <td>-0.833801</td>\n",
       "      <td>-0.410475</td>\n",
       "      <td>-1.221278</td>\n",
       "      <td>0.531742</td>\n",
       "      <td>-1.726582</td>\n",
       "      <td>-1.020936</td>\n",
       "      <td>-1.303263</td>\n",
       "      <td>0.531742</td>\n",
       "      <td>-0.833801</td>\n",
       "    </tr>\n",
       "    <tr>\n",
       "      <th>9875</th>\n",
       "      <td>1</td>\n",
       "      <td>1.759976</td>\n",
       "      <td>-1.298863</td>\n",
       "      <td>-1.009663</td>\n",
       "      <td>-0.061087</td>\n",
       "      <td>-0.728666</td>\n",
       "      <td>0.333364</td>\n",
       "      <td>1.327623</td>\n",
       "      <td>-0.481132</td>\n",
       "      <td>-0.210439</td>\n",
       "      <td>...</td>\n",
       "      <td>-0.198353</td>\n",
       "      <td>-0.692938</td>\n",
       "      <td>0.244627</td>\n",
       "      <td>0.338141</td>\n",
       "      <td>-0.517980</td>\n",
       "      <td>0.467412</td>\n",
       "      <td>-0.312888</td>\n",
       "      <td>-0.479942</td>\n",
       "      <td>-0.517980</td>\n",
       "      <td>-0.692938</td>\n",
       "    </tr>\n",
       "    <tr>\n",
       "      <th>9876</th>\n",
       "      <td>0</td>\n",
       "      <td>0.039499</td>\n",
       "      <td>-0.839069</td>\n",
       "      <td>-1.009663</td>\n",
       "      <td>-0.061087</td>\n",
       "      <td>0.293944</td>\n",
       "      <td>-0.404768</td>\n",
       "      <td>-0.753226</td>\n",
       "      <td>-0.481132</td>\n",
       "      <td>-0.210439</td>\n",
       "      <td>...</td>\n",
       "      <td>-0.198353</td>\n",
       "      <td>1.227490</td>\n",
       "      <td>1.554831</td>\n",
       "      <td>1.624724</td>\n",
       "      <td>1.992226</td>\n",
       "      <td>0.866319</td>\n",
       "      <td>0.990702</td>\n",
       "      <td>0.959957</td>\n",
       "      <td>1.992226</td>\n",
       "      <td>1.227490</td>\n",
       "    </tr>\n",
       "    <tr>\n",
       "      <th>9877</th>\n",
       "      <td>0</td>\n",
       "      <td>-0.459994</td>\n",
       "      <td>0.540312</td>\n",
       "      <td>0.990429</td>\n",
       "      <td>-1.389604</td>\n",
       "      <td>-1.069536</td>\n",
       "      <td>-0.896856</td>\n",
       "      <td>1.327623</td>\n",
       "      <td>-0.481132</td>\n",
       "      <td>-0.210439</td>\n",
       "      <td>...</td>\n",
       "      <td>-0.198353</td>\n",
       "      <td>-0.798921</td>\n",
       "      <td>0.899729</td>\n",
       "      <td>0.293920</td>\n",
       "      <td>1.353264</td>\n",
       "      <td>-1.128220</td>\n",
       "      <td>0.347874</td>\n",
       "      <td>0.547516</td>\n",
       "      <td>1.353264</td>\n",
       "      <td>-0.798921</td>\n",
       "    </tr>\n",
       "    <tr>\n",
       "      <th>9878</th>\n",
       "      <td>1</td>\n",
       "      <td>-0.237997</td>\n",
       "      <td>-1.298863</td>\n",
       "      <td>0.990429</td>\n",
       "      <td>-0.061087</td>\n",
       "      <td>-0.046926</td>\n",
       "      <td>-0.404768</td>\n",
       "      <td>-0.753226</td>\n",
       "      <td>-0.481132</td>\n",
       "      <td>-0.210439</td>\n",
       "      <td>...</td>\n",
       "      <td>-0.198353</td>\n",
       "      <td>-0.771419</td>\n",
       "      <td>-0.410475</td>\n",
       "      <td>-0.486207</td>\n",
       "      <td>-0.746180</td>\n",
       "      <td>-0.529858</td>\n",
       "      <td>-0.371994</td>\n",
       "      <td>0.012696</td>\n",
       "      <td>-0.746180</td>\n",
       "      <td>-0.771419</td>\n",
       "    </tr>\n",
       "  </tbody>\n",
       "</table>\n",
       "<p>9879 rows × 37 columns</p>\n",
       "</div>"
      ],
      "text/plain": [
       "      blueWins  blueWardsPlaced  blueWardsDestroyed  blueFirstBlood  \\\n",
       "0            0         0.316996           -0.379275        0.990429   \n",
       "1            0        -0.570992           -0.839069       -1.009663   \n",
       "2            0        -0.404494           -1.298863       -1.009663   \n",
       "3            0         1.149484           -0.839069       -1.009663   \n",
       "4            0         2.925460            0.540312       -1.009663   \n",
       "...        ...              ...                 ...             ...   \n",
       "9874         1        -0.293496           -0.379275        0.990429   \n",
       "9875         1         1.759976           -1.298863       -1.009663   \n",
       "9876         0         0.039499           -0.839069       -1.009663   \n",
       "9877         0        -0.459994            0.540312        0.990429   \n",
       "9878         1        -0.237997           -1.298863        0.990429   \n",
       "\n",
       "      blueKills  blueDeaths  blueAssists  blueDragons  blueHeralds  \\\n",
       "0      0.935301   -0.046926     1.071495    -0.753226    -0.481132   \n",
       "1     -0.393216   -0.387796    -0.404768    -0.753226    -0.481132   \n",
       "2      0.271042    1.657424    -0.650812     1.327623    -0.481132   \n",
       "3     -0.725346   -0.387796    -0.404768    -0.753226     2.078430   \n",
       "4     -0.061087   -0.046926    -0.158724    -0.753226    -0.481132   \n",
       "...         ...         ...          ...          ...          ...   \n",
       "9874   0.271042   -0.728666    -0.404768     1.327623    -0.481132   \n",
       "9875  -0.061087   -0.728666     0.333364     1.327623    -0.481132   \n",
       "9876  -0.061087    0.293944    -0.404768    -0.753226    -0.481132   \n",
       "9877  -1.389604   -1.069536    -0.896856     1.327623    -0.481132   \n",
       "9878  -0.061087   -0.046926    -0.404768    -0.753226    -0.481132   \n",
       "\n",
       "      blueTowersDestroyed  ...  redTowersDestroyed  redTotalGold  redAvgLevel  \\\n",
       "0               -0.210439  ...           -0.198353      0.052293    -0.410475   \n",
       "1               -0.210439  ...            4.412301      0.758619    -0.410475   \n",
       "2               -0.210439  ...           -0.198353      0.533909    -0.410475   \n",
       "3               -0.210439  ...           -0.198353     -0.007406     0.244627   \n",
       "4               -0.210439  ...           -0.198353      0.613731     0.244627   \n",
       "...                   ...  ...                 ...           ...          ...   \n",
       "9874            -0.210439  ...           -0.198353     -0.833801    -0.410475   \n",
       "9875            -0.210439  ...           -0.198353     -0.692938     0.244627   \n",
       "9876            -0.210439  ...           -0.198353      1.227490     1.554831   \n",
       "9877            -0.210439  ...           -0.198353     -0.798921     0.899729   \n",
       "9878            -0.210439  ...           -0.198353     -0.771419    -0.410475   \n",
       "\n",
       "      redTotalExperience  redTotalMinionsKilled  redTotalJungleMinionsKilled  \\\n",
       "0              -0.763215              -0.928741                     0.367685   \n",
       "1              -0.436980               1.033784                     0.068504   \n",
       "2              -0.590502              -0.654900                    -2.324944   \n",
       "3              -0.000609               0.805583                    -0.430131   \n",
       "4               0.293085               0.349182                     1.564408   \n",
       "...                  ...                    ...                          ...   \n",
       "9874           -1.221278               0.531742                    -1.726582   \n",
       "9875            0.338141              -0.517980                     0.467412   \n",
       "9876            1.624724               1.992226                     0.866319   \n",
       "9877            0.293920               1.353264                    -1.128220   \n",
       "9878           -0.486207              -0.746180                    -0.529858   \n",
       "\n",
       "      redGoldDiff  redExperienceDiff  redCSPerMin  redGoldPerMin  \n",
       "0       -0.256228          -0.013342    -0.928741       0.052293  \n",
       "1        1.191254           0.593342     1.033784       0.758619  \n",
       "2        0.483614           0.520436    -0.654900       0.533909  \n",
       "3        0.544350          -0.013863     0.805583      -0.007406  \n",
       "4        0.415133          -0.137283     0.349182       0.613731  \n",
       "...           ...                ...          ...            ...  \n",
       "9874    -1.020936          -1.303263     0.531742      -0.833801  \n",
       "9875    -0.312888          -0.479942    -0.517980      -0.692938  \n",
       "9876     0.990702           0.959957     1.992226       1.227490  \n",
       "9877     0.347874           0.547516     1.353264      -0.798921  \n",
       "9878    -0.371994           0.012696    -0.746180      -0.771419  \n",
       "\n",
       "[9879 rows x 37 columns]"
      ]
     },
     "execution_count": 153,
     "metadata": {},
     "output_type": "execute_result"
    }
   ],
   "source": [
    "# Making a Scaler obj\n",
    "sc = preprocessing.StandardScaler()\n",
    "scaled_df = sc.fit_transform(no_target_df)\n",
    "scaled_df = pd.DataFrame(scaled_df, columns=no_target_df.columns)\n",
    "df = pd.concat([target_df,scaled_df], axis=1)\n",
    "df"
   ]
  },
  {
   "cell_type": "markdown",
   "metadata": {},
   "source": [
    "# Split Data"
   ]
  },
  {
   "cell_type": "code",
   "execution_count": 171,
   "metadata": {},
   "outputs": [],
   "source": [
    "X = df.drop(y, axis=1)\n",
    "y = df[['blueWins']]\n",
    "\n"
   ]
  },
  {
   "cell_type": "code",
   "execution_count": 172,
   "metadata": {},
   "outputs": [
    {
     "name": "stdout",
     "output_type": "stream",
     "text": [
      "(7409, 36) (2470, 36) (7409, 1) (2470, 1)\n"
     ]
    }
   ],
   "source": [
    "# Train Test Split\n",
    "X_train, X_test, y_train, y_test = train_test_split(X, y, test_size=.25, random_state=123)\n",
    "\n",
    "print(X_train.shape, X_test.shape, y_train.shape, y_test.shape)\n"
   ]
  },
  {
   "cell_type": "markdown",
   "metadata": {},
   "source": [
    "# Median vs Mean"
   ]
  },
  {
   "cell_type": "code",
   "execution_count": 173,
   "metadata": {},
   "outputs": [
    {
     "name": "stdout",
     "output_type": "stream",
     "text": [
      "The median for the training set is: blueWins    0.504522\n",
      "dtype: float64, The median for the trainning set is: blueWins    1.0\n",
      "dtype: float64\n"
     ]
    }
   ],
   "source": [
    "print(\n",
    "    f'The median for the training set is: {y_train.mean()}, The median for the trainning set is: {y_train.median()}')\n"
   ]
  },
  {
   "cell_type": "markdown",
   "metadata": {},
   "source": [
    "# Data Modeling"
   ]
  },
  {
   "cell_type": "code",
   "execution_count": 174,
   "metadata": {},
   "outputs": [],
   "source": [
    "def evaluate_model(model, X_train, y_train, X_test, y_test, digits=4,\n",
    "                   figsize=(10, 5), params=False):\n",
    "\n",
    "    # Get Predictions\n",
    "    y_hat_test = model.predict(X_test)\n",
    "    y_hat_train = model.predict(X_train)\n",
    "\n",
    "    # Classification Report / Scores\n",
    "\n",
    "    print(\"****CLASSIFICATION REPORT - TRAINING DATA****\")\n",
    "\n",
    "    print(metrics.classification_report(y_train, y_hat_train, digits=digits))\n",
    "\n",
    "    print(\"****CLASSIFICATION REPORT - TEST DATA****\")\n",
    "\n",
    "    print(metrics.classification_report(y_test, y_hat_test, digits=digits))\n",
    "\n",
    "    print(\"****CONFUSION MATRIX AND ROC-AUC VISUALIZATION****\")\n",
    "\n",
    "    fig, axes = plt.subplots(ncols=2,\n",
    "                             figsize=figsize)\n",
    "\n",
    "    # Confusion Matrix\n",
    "    metrics.plot_confusion_matrix(model, X_test,\n",
    "                                  y_test, normalize='true',\n",
    "                                  cmap='Blues', ax=axes[0])\n",
    "    axes[0].set_title('Confusion Matrix')\n",
    "\n",
    "    # Plot ROC Curve\n",
    "    metrics.plot_roc_curve(model, X_test, y_test, ax=axes[1])\n",
    "\n",
    "    ax = axes[1]\n",
    "    ax.legend()\n",
    "    ax.plot([0, 1], [0, 1], ls='-')\n",
    "    ax.grid()\n",
    "    ax.set_title('ROC AUC Curve')\n",
    "\n",
    "    plt.tight_layout()\n",
    "    plt.show()\n",
    "\n",
    "    if params == True:\n",
    "        print(\"****MODEL PARAMETERS****\")\n",
    "        params = pd.DataFrame(pd.Series(model.get_params()))\n",
    "        params.columns = ['parameters']\n",
    "        display(params)\n",
    "\n",
    "\n",
    "\n",
    "def fit_eval(model, X_train, y_train, X_test, y_test, digits=4,\n",
    "             figsize=(10, 5), params=False):\n",
    "\n",
    "    model.fit(X_train, y_train)\n",
    "\n",
    "    evaluate_model(model, X_train, y_train, X_test, y_test, digits=digits,\n",
    "                   figsize=figsize, params=params)\n",
    "\n",
    "    return model\n"
   ]
  },
  {
   "cell_type": "markdown",
   "metadata": {},
   "source": [
    "# Logistic Regression Model"
   ]
  },
  {
   "cell_type": "code",
   "execution_count": 175,
   "metadata": {},
   "outputs": [
    {
     "name": "stdout",
     "output_type": "stream",
     "text": [
      "****CLASSIFICATION REPORT - TRAINING DATA****\n",
      "              precision    recall  f1-score   support\n",
      "\n",
      "           0     0.7313    0.7303    0.7308      3671\n",
      "           1     0.7355    0.7365    0.7360      3738\n",
      "\n",
      "    accuracy                         0.7334      7409\n",
      "   macro avg     0.7334    0.7334    0.7334      7409\n",
      "weighted avg     0.7334    0.7334    0.7334      7409\n",
      "\n",
      "****CLASSIFICATION REPORT - TEST DATA****\n",
      "              precision    recall  f1-score   support\n",
      "\n",
      "           0     0.7468    0.7269    0.7367      1278\n",
      "           1     0.7153    0.7357    0.7254      1192\n",
      "\n",
      "    accuracy                         0.7312      2470\n",
      "   macro avg     0.7311    0.7313    0.7311      2470\n",
      "weighted avg     0.7316    0.7312    0.7313      2470\n",
      "\n",
      "****CONFUSION MATRIX AND ROC-AUC VISUALIZATION****\n"
     ]
    },
    {
     "data": {
      "image/png": "[encoded data removed]",
      "text/plain": [
       "<Figure size 720x360 with 3 Axes>"
      ]
     },
     "metadata": {
      "needs_background": "light"
     },
     "output_type": "display_data"
    }
   ],
   "source": [
    "log = fit_eval(LogisticRegressionCV(random_state=123),\\\n",
    "    X_train, y_train,\\\n",
    "        X_test, y_test)"
   ]
  },
  {
   "cell_type": "markdown",
   "metadata": {},
   "source": [
    "Our out of the box model was good considering we haven't tuned our hyperparameters. We will do that in the furture but now lets discuss what our model returned. We can see that our macro recall score which is calculated by TruePositives / (TruePositives + FalseNegatives) so our logistic regression model accurately predicted about 73.13% or true wins and losses. There is a lot of room to improve since we are inaccurate about 26% of the time. Hopefully tuning our parameters will help. "
   ]
  },
  {
   "cell_type": "markdown",
   "metadata": {},
   "source": [
    "# Logistic Regression with GridSearchCV"
   ]
  },
  {
   "cell_type": "markdown",
   "metadata": {},
   "source": [
    "In our earlier example of the Logistic Regression, we created an instance of our model without passing it any initializers. Instead, we rely on the default values of the various parameters. Lets try and fine tune their values so that our algorithm works best. "
   ]
  },
  {
   "cell_type": "code",
   "execution_count": 159,
   "metadata": {},
   "outputs": [
    {
     "data": {
      "text/plain": [
       "GridSearchCV(cv=10, estimator=LogisticRegression(random_state=123),\n",
       "             param_grid={'C': array([1.e-03, 1.e-02, 1.e-01, 1.e+00, 1.e+01, 1.e+02, 1.e+03]),\n",
       "                         'class_weight': ['balance'], 'penalty': ['l1', 'l2'],\n",
       "                         'solver': ['liblinear', 'newton-cg', 'lbfgs', 'sag',\n",
       "                                    'saga']},\n",
       "             scoring='recall_macro')"
      ]
     },
     "execution_count": 159,
     "metadata": {},
     "output_type": "execute_result"
    }
   ],
   "source": [
    "log_grid = LogisticRegression(random_state=123)\n",
    "\n",
    "# parameter grid\n",
    "params = {\n",
    "    'penalty' : [\"l1\",\"l2\"],\n",
    "    'C' : np.logspace(-3,3,7),\n",
    "    'solver': [\"liblinear\", \"newton-cg\", \"lbfgs\", \"sag\", \"saga\"],\n",
    "    'class_weight': [\"balance\"],\n",
    "    \n",
    "}\n",
    "\n",
    "log_grid = GridSearchCV(log_grid, params, scoring='recall_macro', cv=10)\n",
    "log_grid.fit(X_train, y_train)"
   ]
  },
  {
   "cell_type": "code",
   "execution_count": 160,
   "metadata": {},
   "outputs": [
    {
     "name": "stdout",
     "output_type": "stream",
     "text": [
      "****CLASSIFICATION REPORT - TRAINING DATA****\n",
      "              precision    recall  f1-score   support\n",
      "\n",
      "           0     0.7316    0.7292    0.7304      3671\n",
      "           1     0.7349    0.7373    0.7361      3738\n",
      "\n",
      "    accuracy                         0.7333      7409\n",
      "   macro avg     0.7333    0.7333    0.7333      7409\n",
      "weighted avg     0.7333    0.7333    0.7333      7409\n",
      "\n",
      "****CLASSIFICATION REPORT - TEST DATA****\n",
      "              precision    recall  f1-score   support\n",
      "\n",
      "           0     0.7460    0.7238    0.7347      1278\n",
      "           1     0.7130    0.7357    0.7242      1192\n",
      "\n",
      "    accuracy                         0.7296      2470\n",
      "   macro avg     0.7295    0.7298    0.7295      2470\n",
      "weighted avg     0.7301    0.7296    0.7296      2470\n",
      "\n",
      "****CONFUSION MATRIX AND ROC-AUC VISUALIZATION****\n"
     ]
    },
    {
     "data": {
      "image/png": "[encoded data removed]",
      "text/plain": [
       "<Figure size 720x360 with 3 Axes>"
      ]
     },
     "metadata": {
      "needs_background": "light"
     },
     "output_type": "display_data"
    }
   ],
   "source": [
    "evaluate_model(log_grid.best_estimator_, X_train, y_train,\n",
    "               X_test, y_test)\n"
   ]
  },
  {
   "cell_type": "markdown",
   "metadata": {},
   "source": [
    "After, fine-tunning our hyperparameters we saw a minuscule decrease in our average recall score. I do not want to fall into the overfitting pitfall, let us approach hyperparameter tuning randomly."
   ]
  },
  {
   "cell_type": "markdown",
   "metadata": {},
   "source": [
    "# Logistic Regression with RandomSearchCV"
   ]
  },
  {
   "cell_type": "code",
   "execution_count": 161,
   "metadata": {},
   "outputs": [
    {
     "name": "stdout",
     "output_type": "stream",
     "text": [
      "Fitting 10 folds for each of 4 candidates, totalling 40 fits\n"
     ]
    },
    {
     "data": {
      "text/plain": [
       "RandomizedSearchCV(cv=10, estimator=LogisticRegression(), n_iter=100, n_jobs=-1,\n",
       "                   param_distributions={'C': array([0, 1, 2, 3])},\n",
       "                   random_state=123, verbose=2)"
      ]
     },
     "execution_count": 161,
     "metadata": {},
     "output_type": "execute_result"
    }
   ],
   "source": [
    "log_rand = LogisticRegression()\n",
    "param_grid = {\n",
    "     \"C\": np.arange(0,4,1),\n",
    "    }\n",
    "\n",
    "log_rand = RandomizedSearchCV(estimator=log_rand,\n",
    "                              param_distributions=param_grid, n_iter=100, cv=10, verbose=2, random_state=123, n_jobs=-1)\n",
    "log_rand.fit(X_train,y_train)\n",
    "\n"
   ]
  },
  {
   "cell_type": "code",
   "execution_count": 162,
   "metadata": {},
   "outputs": [
    {
     "name": "stdout",
     "output_type": "stream",
     "text": [
      "****CLASSIFICATION REPORT - TRAINING DATA****\n",
      "              precision    recall  f1-score   support\n",
      "\n",
      "           0     0.7316    0.7292    0.7304      3671\n",
      "           1     0.7349    0.7373    0.7361      3738\n",
      "\n",
      "    accuracy                         0.7333      7409\n",
      "   macro avg     0.7333    0.7333    0.7333      7409\n",
      "weighted avg     0.7333    0.7333    0.7333      7409\n",
      "\n",
      "****CLASSIFICATION REPORT - TEST DATA****\n",
      "              precision    recall  f1-score   support\n",
      "\n",
      "           0     0.7460    0.7238    0.7347      1278\n",
      "           1     0.7130    0.7357    0.7242      1192\n",
      "\n",
      "    accuracy                         0.7296      2470\n",
      "   macro avg     0.7295    0.7298    0.7295      2470\n",
      "weighted avg     0.7301    0.7296    0.7296      2470\n",
      "\n",
      "****CONFUSION MATRIX AND ROC-AUC VISUALIZATION****\n"
     ]
    },
    {
     "data": {
      "image/png": "[encoded data removed]",
      "text/plain": [
       "<Figure size 720x360 with 3 Axes>"
      ]
     },
     "metadata": {
      "needs_background": "light"
     },
     "output_type": "display_data"
    }
   ],
   "source": [
    "evaluate_model(log_rand.best_estimator_, X_train, y_train,\n",
    "               X_test, y_test)\n"
   ]
  },
  {
   "cell_type": "markdown",
   "metadata": {},
   "source": [
    "We didn't see a significat improvement tuning our parameters using RandomSearchCV vs GridSearchCV. We can see that it was less expensive to run RandomSearchCV in comparasion to GridSearchCV. We'll try a different model to try and more accurate model without overfitting. "
   ]
  },
  {
   "cell_type": "markdown",
   "metadata": {},
   "source": [
    "# Random Forest\n",
    "The model was creating using the original data that was not standardize. \n"
   ]
  },
  {
   "cell_type": "code",
   "execution_count": 163,
   "metadata": {},
   "outputs": [],
   "source": [
    "non_X = non_std_df.loc[:, non_std_df.columns != 'blueWins']\n",
    "non_y = non_std_df[['blueWins']]\n"
   ]
  },
  {
   "cell_type": "code",
   "execution_count": 164,
   "metadata": {},
   "outputs": [
    {
     "name": "stdout",
     "output_type": "stream",
     "text": [
      "****CLASSIFICATION REPORT - TRAINING DATA****\n",
      "              precision    recall  f1-score   support\n",
      "\n",
      "           0     1.0000    1.0000    1.0000      3671\n",
      "           1     1.0000    1.0000    1.0000      3738\n",
      "\n",
      "    accuracy                         1.0000      7409\n",
      "   macro avg     1.0000    1.0000    1.0000      7409\n",
      "weighted avg     1.0000    1.0000    1.0000      7409\n",
      "\n",
      "****CLASSIFICATION REPORT - TEST DATA****\n",
      "              precision    recall  f1-score   support\n",
      "\n",
      "           0     0.7474    0.7222    0.7346      1278\n",
      "           1     0.7126    0.7383    0.7252      1192\n",
      "\n",
      "    accuracy                         0.7300      2470\n",
      "   macro avg     0.7300    0.7302    0.7299      2470\n",
      "weighted avg     0.7306    0.7300    0.7300      2470\n",
      "\n",
      "****CONFUSION MATRIX AND ROC-AUC VISUALIZATION****\n"
     ]
    },
    {
     "data": {
      "image/png": "[encoded data removed]",
      "text/plain": [
       "<Figure size 720x360 with 3 Axes>"
      ]
     },
     "metadata": {
      "needs_background": "light"
     },
     "output_type": "display_data"
    },
    {
     "data": {
      "text/plain": [
       "RandomForestClassifier(n_estimators=500, random_state=123)"
      ]
     },
     "execution_count": 164,
     "metadata": {},
     "output_type": "execute_result"
    }
   ],
   "source": [
    "X_train_non, X_test_non, y_train_non, y_test_non = train_test_split(non_X, non_y, test_size=.25, random_state=123)\n",
    "\n",
    "\n",
    "fit_eval(RandomForestClassifier(random_state=123, n_estimators=500), X_train_non, y_train_non,X_test_non,y_test_non)"
   ]
  },
  {
   "cell_type": "markdown",
   "metadata": {},
   "source": [
    "Our Random Forest model is scoring perfectly on the training data. This is an evidenct overfitting issue. Lets try to combat the overfitting with some optimal hyperparameter tuning. "
   ]
  },
  {
   "cell_type": "code",
   "execution_count": null,
   "metadata": {},
   "outputs": [],
   "source": []
  }
 ],
 "metadata": {
  "interpreter": {
   "hash": "4e3c19e45b5993ddd0e770a91f2146262936cdeef22cb129a6296e8f84685e4d"
  },
  "kernelspec": {
   "display_name": "Python 3.8.8 ('base')",
   "language": "python",
   "name": "python3"
  },
  "language_info": {
   "codemirror_mode": {
    "name": "ipython",
    "version": 3
   },
   "file_extension": ".py",
   "mimetype": "text/x-python",
   "name": "python",
   "nbconvert_exporter": "python",
   "pygments_lexer": "ipython3",
   "version": "3.8.8"
  },
  "orig_nbformat": 4
 },
 "nbformat": 4,
 "nbformat_minor": 2
}
